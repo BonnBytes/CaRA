{
 "cells": [
  {
   "cell_type": "code",
   "execution_count": 1,
   "id": "ba610568-8a6b-4a45-94bb-b274de52a72a",
   "metadata": {},
   "outputs": [],
   "source": [
    "import torch as th\n",
    "th.set_default_dtype(th.float64)\n",
    "th.manual_seed(42)\n",
    "import tensorly as tl\n",
    "tl.set_backend(\"pytorch\")"
   ]
  },
  {
   "cell_type": "code",
   "execution_count": 2,
   "id": "802238fa-e7af-42fe-8275-e902bb060ea4",
   "metadata": {},
   "outputs": [],
   "source": [
    "weight = th.randn((3, 128, 8, 16))\n",
    "X = th.randn((7, 5, 128))"
   ]
  },
  {
   "cell_type": "code",
   "execution_count": 3,
   "id": "5b2eca54-9c19-4774-9484-e39242d102a2",
   "metadata": {},
   "outputs": [
    {
     "name": "stdout",
     "output_type": "stream",
     "text": [
      "Input shape: torch.Size([7, 5, 128])\n",
      "Weight shape: torch.Size([128, 384])\n",
      "Y shape: torch.Size([3, 7, 5, 128])\n"
     ]
    }
   ],
   "source": [
    "K, E, H, D = weight.shape\n",
    "weight_res = weight.reshape((K, E, H*D)).swapaxes(-2, -1)\n",
    "weight_res = weight_res.permute(1, 0, 2)\n",
    "weight_res = weight_res.reshape((H*D, -1))\n",
    "print(f\"Input shape: {X.shape}\")\n",
    "print(f\"Weight shape: {weight_res.shape}\")\n",
    "Y = X @ weight_res\n",
    "Y = Y.reshape((7, 5, K, 128)).permute(2, 0, 1, 3)\n",
    "print(f\"Y shape: {Y.shape}\")"
   ]
  },
  {
   "cell_type": "code",
   "execution_count": 4,
   "id": "5f0a97d2-a601-494c-bb11-9fbe7b39b2d2",
   "metadata": {},
   "outputs": [
    {
     "name": "stdout",
     "output_type": "stream",
     "text": [
      "CP Input shape torch.Size([7, 5, 8, 16])\n"
     ]
    }
   ],
   "source": [
    "X_res = X.reshape((7, 5, H, D))\n",
    "print(f\"CP Input shape {X_res.shape}\")"
   ]
  },
  {
   "cell_type": "code",
   "execution_count": 5,
   "id": "397587d5-fe6f-4243-bdf8-e9a13804cb2c",
   "metadata": {},
   "outputs": [],
   "source": [
    "K, E, H, D = weight.shape\n",
    "decomp = tl.decomposition.CP(rank=K*E, normalize_factors=False, verbose=False, init=\"random\", tol=1e-24, random_state=42)\n",
    "weight_terf = weight.reshape((K*E, H, D))\n",
    "_, (A2, A3, A4) = decomp.fit_transform(weight_terf)"
   ]
  },
  {
   "cell_type": "code",
   "execution_count": 6,
   "id": "546a7f59-bbd9-4f44-9d53-b6098e3d4f26",
   "metadata": {},
   "outputs": [
    {
     "name": "stdout",
     "output_type": "stream",
     "text": [
      "torch.Size([384, 384]) torch.Size([8, 384]) torch.Size([16, 384])\n"
     ]
    }
   ],
   "source": [
    "print(A2.shape, A3.shape, A4.shape)"
   ]
  },
  {
   "cell_type": "code",
   "execution_count": 7,
   "id": "1c00020f-9f69-48d9-b4d9-bf8e8e53fc0a",
   "metadata": {},
   "outputs": [],
   "source": [
    "X_res = X_res.unsqueeze(0)\n",
    "preprocess = lambda  x: x.unsqueeze(0).unsqueeze(0).unsqueeze(0).permute((-1, 0, 1, 2, 3))"
   ]
  },
  {
   "cell_type": "code",
   "execution_count": 8,
   "id": "c5dc9af0-e512-4446-89bb-2c1bf83b3734",
   "metadata": {},
   "outputs": [
    {
     "name": "stdout",
     "output_type": "stream",
     "text": [
      "torch.Size([384, 1, 1, 1, 384]) torch.Size([384, 1, 1, 1, 8]) torch.Size([384, 1, 1, 1, 16])\n"
     ]
    }
   ],
   "source": [
    "#A1 = preprocess(A1)\n",
    "A2 = preprocess(A2)\n",
    "A3 = preprocess(A3)\n",
    "A4 = preprocess(A4)\n",
    "print(A2.shape, A3.shape, A4.shape)"
   ]
  },
  {
   "cell_type": "code",
   "execution_count": 9,
   "id": "f9a9ed78-490c-45e3-a2e9-51ea67ea0435",
   "metadata": {},
   "outputs": [],
   "source": [
    "inter_1 = X_res @ A4.swapaxes(-2, -1)\n",
    "inter_1 = inter_1.squeeze(-1)\n",
    "inter_2 = inter_1 @ A3.squeeze(-2).swapaxes(-2, -1)\n",
    "output = inter_2 @ A2.squeeze(-2)\n",
    "Y2 = th.sum(output, dim=0)\n",
    "Y2 = Y2.reshape((7, 5, K, 128)).permute(2, 0, 1, 3)"
   ]
  },
  {
   "cell_type": "code",
   "execution_count": 10,
   "id": "56a9547f-1ba7-456c-b6ba-170e1069ad19",
   "metadata": {},
   "outputs": [
    {
     "data": {
      "text/plain": [
       "torch.Size([3, 7, 5, 128])"
      ]
     },
     "execution_count": 10,
     "metadata": {},
     "output_type": "execute_result"
    }
   ],
   "source": [
    "Y2.shape"
   ]
  },
  {
   "cell_type": "code",
   "execution_count": 11,
   "id": "5176566a-f12c-4d6d-84b8-bf344dc14f1a",
   "metadata": {},
   "outputs": [
    {
     "data": {
      "text/plain": [
       "True"
      ]
     },
     "execution_count": 11,
     "metadata": {},
     "output_type": "execute_result"
    }
   ],
   "source": [
    "th.allclose(Y, Y2)"
   ]
  }
 ],
 "metadata": {
  "kernelspec": {
   "display_name": "Python 3 (ipykernel)",
   "language": "python",
   "name": "python3"
  },
  "language_info": {
   "codemirror_mode": {
    "name": "ipython",
    "version": 3
   },
   "file_extension": ".py",
   "mimetype": "text/x-python",
   "name": "python",
   "nbconvert_exporter": "python",
   "pygments_lexer": "ipython3",
   "version": "3.12.6"
  }
 },
 "nbformat": 4,
 "nbformat_minor": 5
}
