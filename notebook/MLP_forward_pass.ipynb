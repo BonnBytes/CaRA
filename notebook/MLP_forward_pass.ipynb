{
 "cells": [
  {
   "cell_type": "code",
   "execution_count": 1,
   "id": "649187e1-d196-48ab-a771-70e321704e15",
   "metadata": {},
   "outputs": [],
   "source": [
    "import torch as th\n",
    "th.set_default_dtype(th.float64)\n",
    "import tensorly as tl\n",
    "tl.set_backend(\"pytorch\")"
   ]
  },
  {
   "cell_type": "code",
   "execution_count": 2,
   "id": "0a4264ce-ee89-4caf-83b5-eef048332b92",
   "metadata": {},
   "outputs": [],
   "source": [
    "s = 1"
   ]
  },
  {
   "cell_type": "code",
   "execution_count": 3,
   "id": "e236a17e-f7a5-4892-9029-30ba94b30414",
   "metadata": {},
   "outputs": [
    {
     "name": "stdout",
     "output_type": "stream",
     "text": [
      "torch.Size([32, 64]) torch.Size([3, 17, 64])\n"
     ]
    }
   ],
   "source": [
    "P = th.nn.Linear(64, 32*s, bias=False)\n",
    "Pw = P.weight.data\n",
    "x = th.randn((3, 17, 64))\n",
    "print(Pw.shape, x.shape)"
   ]
  },
  {
   "cell_type": "code",
   "execution_count": 4,
   "id": "27e5f01a-17ca-4bfa-8e20-0c9ba0752dd0",
   "metadata": {},
   "outputs": [],
   "source": [
    "y_lin = P(x)"
   ]
  },
  {
   "cell_type": "code",
   "execution_count": 5,
   "id": "7d56df77-8b55-405c-87a7-7d071d9a6327",
   "metadata": {},
   "outputs": [
    {
     "name": "stdout",
     "output_type": "stream",
     "text": [
      "torch.Size([3, 17, 32])\n"
     ]
    }
   ],
   "source": [
    "print(y_lin.shape)"
   ]
  },
  {
   "cell_type": "code",
   "execution_count": 6,
   "id": "ea914f2c-da70-45ac-80ed-c1755a388113",
   "metadata": {},
   "outputs": [
    {
     "name": "stdout",
     "output_type": "stream",
     "text": [
      "torch.Size([3, 17, 1, 32])\n"
     ]
    }
   ],
   "source": [
    "Pw = Pw.reshape((s, 32, 64))\n",
    "Xw = x.unsqueeze(2).unsqueeze(2)\n",
    "y_multi = Xw@Pw.unsqueeze(0).unsqueeze(0).swapaxes(-2, -1)\n",
    "y_multi = y_multi.squeeze(-2)\n",
    "print(y_multi.shape)\n",
    "B, N, r, e = y_multi.shape\n",
    "y_multi = y_multi.reshape((B, N, r*e))"
   ]
  },
  {
   "cell_type": "code",
   "execution_count": 7,
   "id": "32c41624-ff93-473c-8b06-a4952fea5cec",
   "metadata": {},
   "outputs": [
    {
     "data": {
      "text/plain": [
       "torch.Size([3, 17, 32])"
      ]
     },
     "execution_count": 7,
     "metadata": {},
     "output_type": "execute_result"
    }
   ],
   "source": [
    "y_multi.shape"
   ]
  },
  {
   "cell_type": "code",
   "execution_count": 8,
   "id": "8a43ed38-e646-4b59-b122-0242f2b25789",
   "metadata": {},
   "outputs": [
    {
     "data": {
      "text/plain": [
       "True"
      ]
     },
     "execution_count": 8,
     "metadata": {},
     "output_type": "execute_result"
    }
   ],
   "source": [
    "th.allclose(y_lin, y_multi)"
   ]
  },
  {
   "cell_type": "code",
   "execution_count": 9,
   "id": "96d0f6d6-9ca0-4de7-a251-d3891e253a42",
   "metadata": {},
   "outputs": [
    {
     "data": {
      "text/plain": [
       "tensor(2.8579e-32, grad_fn=<MeanBackward0>)"
      ]
     },
     "execution_count": 9,
     "metadata": {},
     "output_type": "execute_result"
    }
   ],
   "source": [
    "th.mean((y_lin - y_multi)**2)"
   ]
  },
  {
   "cell_type": "markdown",
   "id": "19b22b0b-ce30-4952-80f3-784d70046287",
   "metadata": {},
   "source": [
    "## Tensorly decomposition"
   ]
  },
  {
   "cell_type": "code",
   "execution_count": 10,
   "id": "6b0344a6-c3c4-4878-a2f0-b00d57e3dbc9",
   "metadata": {},
   "outputs": [],
   "source": [
    "decomp = tl.decomposition.CP(rank=32*s, normalize_factors=False, verbose=False, init=\"random\", tol=1e-24, random_state=42)\n",
    "_, (P1, P2, P3) = decomp.fit_transform(Pw)"
   ]
  },
  {
   "cell_type": "code",
   "execution_count": 11,
   "id": "5c44323b-d713-4477-bad3-a136c44b313f",
   "metadata": {},
   "outputs": [
    {
     "data": {
      "text/plain": [
       "True"
      ]
     },
     "execution_count": 11,
     "metadata": {},
     "output_type": "execute_result"
    }
   ],
   "source": [
    "recons_pw = tl.cp_to_tensor((None, (P1, P2, P3)))\n",
    "th.allclose(recons_pw, Pw)"
   ]
  },
  {
   "cell_type": "code",
   "execution_count": 12,
   "id": "1be88949-0533-4c73-9fc3-b82bd1450495",
   "metadata": {},
   "outputs": [
    {
     "name": "stdout",
     "output_type": "stream",
     "text": [
      "torch.Size([1, 32]) torch.Size([32, 32]) torch.Size([64, 32])\n"
     ]
    }
   ],
   "source": [
    "print(P1.shape, P2.shape, P3.shape)"
   ]
  },
  {
   "cell_type": "code",
   "execution_count": 13,
   "id": "db644f69-1b55-483c-a572-98aa3ccbf847",
   "metadata": {},
   "outputs": [
    {
     "name": "stdout",
     "output_type": "stream",
     "text": [
      "torch.Size([32, 3, 17, 1, 32])\n"
     ]
    }
   ],
   "source": [
    "x_ = x.unsqueeze(0).unsqueeze(-2)  # (1, bs, patches, heads, headdim)\n",
    "preprocess = (\n",
    "    lambda x: x.unsqueeze(0).unsqueeze(0).unsqueeze(0).permute([-1, 0, 1, 2, 3])\n",
    ")\n",
    "P_3 = preprocess(P3)\n",
    "P_2 = preprocess(P2)\n",
    "P_1 = preprocess(P1)\n",
    "inter_1 = x_ @ P_3.swapaxes(-2, -1)\n",
    "inter_2 = inter_1 @ P_2\n",
    "op = P_1.swapaxes(-2, -1) @ inter_2\n",
    "print(op.shape)\n",
    "R, B, N, e, k = op.shape\n",
    "op = op.reshape((R, B, N, -1))\n",
    "op = th.sum(op, dim=0)"
   ]
  },
  {
   "cell_type": "code",
   "execution_count": 14,
   "id": "d81a08fc-e9c6-4c65-b98e-963f030893aa",
   "metadata": {},
   "outputs": [
    {
     "data": {
      "text/plain": [
       "True"
      ]
     },
     "execution_count": 14,
     "metadata": {},
     "output_type": "execute_result"
    }
   ],
   "source": [
    "th.allclose(y_multi, op)"
   ]
  },
  {
   "cell_type": "code",
   "execution_count": 15,
   "id": "7405b845-a052-4058-b6a3-bbc8f51eeafc",
   "metadata": {},
   "outputs": [
    {
     "data": {
      "text/plain": [
       "tensor(2.3889e-26)"
      ]
     },
     "execution_count": 15,
     "metadata": {},
     "output_type": "execute_result"
    }
   ],
   "source": [
    "th.mean((y_multi-op)**2)"
   ]
  },
  {
   "cell_type": "code",
   "execution_count": 16,
   "id": "57e7f012-4878-41ce-91f9-ee6683ad085a",
   "metadata": {},
   "outputs": [],
   "source": [
    "x_ = x.unsqueeze(0).unsqueeze(-2)  # (1, bs, patches, heads, headdim)\n",
    "preprocess = (\n",
    "    lambda x: x.unsqueeze(0).unsqueeze(0).unsqueeze(0).permute([-1, 0, 1, 2, 3])\n",
    ")\n",
    "P_3 = preprocess(P3)\n",
    "P_2 = preprocess(P2)\n",
    "P_1 = preprocess(P1)\n",
    "\n",
    "inter_1 = x_ @ P_3.swapaxes(-2, -1)\n",
    "inter_2 = inter_1 @ P_2\n",
    "output = P_1.swapaxes(-2, -1) @ inter_2\n",
    "R, B, N, e, k = output.shape\n",
    "output = output.reshape((R, B, N, e*k))\n",
    "output = th.sum(output, dim=0)"
   ]
  },
  {
   "cell_type": "code",
   "execution_count": 17,
   "id": "d0b2b4b9-d8c7-4701-9386-19e6ffa18c42",
   "metadata": {},
   "outputs": [
    {
     "data": {
      "text/plain": [
       "torch.Size([3, 17, 32])"
      ]
     },
     "execution_count": 17,
     "metadata": {},
     "output_type": "execute_result"
    }
   ],
   "source": [
    "output.shape"
   ]
  },
  {
   "cell_type": "code",
   "execution_count": 18,
   "id": "bf86474a-3c13-495d-9576-f888a5e111a9",
   "metadata": {},
   "outputs": [
    {
     "data": {
      "text/plain": [
       "True"
      ]
     },
     "execution_count": 18,
     "metadata": {},
     "output_type": "execute_result"
    }
   ],
   "source": [
    "th.allclose(y_lin, output)"
   ]
  },
  {
   "cell_type": "code",
   "execution_count": null,
   "id": "b18d5d0c-3a29-4e8e-aa0e-a2fe88c5512d",
   "metadata": {},
   "outputs": [],
   "source": []
  }
 ],
 "metadata": {
  "kernelspec": {
   "display_name": "Python 3 (ipykernel)",
   "language": "python",
   "name": "python3"
  },
  "language_info": {
   "codemirror_mode": {
    "name": "ipython",
    "version": 3
   },
   "file_extension": ".py",
   "mimetype": "text/x-python",
   "name": "python",
   "nbconvert_exporter": "python",
   "pygments_lexer": "ipython3",
   "version": "3.12.3"
  }
 },
 "nbformat": 4,
 "nbformat_minor": 5
}
