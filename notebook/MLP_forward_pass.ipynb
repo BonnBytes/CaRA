{
 "cells": [
  {
   "cell_type": "code",
   "execution_count": 1,
   "id": "649187e1-d196-48ab-a771-70e321704e15",
   "metadata": {},
   "outputs": [],
   "source": [
    "import torch as th\n",
    "th.set_default_dtype(th.float64)\n",
    "import tensorly as tl\n",
    "tl.set_backend(\"pytorch\")"
   ]
  },
  {
   "cell_type": "code",
   "execution_count": 2,
   "id": "0a4264ce-ee89-4caf-83b5-eef048332b92",
   "metadata": {},
   "outputs": [],
   "source": [
    "s = 8"
   ]
  },
  {
   "cell_type": "code",
   "execution_count": 3,
   "id": "d6b36842-9823-473c-a291-af100add61a6",
   "metadata": {},
   "outputs": [
    {
     "name": "stdout",
     "output_type": "stream",
     "text": [
      "torch.Size([256, 64]) torch.Size([3, 17, 64])\n"
     ]
    }
   ],
   "source": [
    "P = th.nn.Linear(64, 32*s, bias=False)\n",
    "Pw = P.weight.data\n",
    "x = th.randn((3, 17, 64))\n",
    "print(Pw.shape, x.shape)"
   ]
  },
  {
   "cell_type": "code",
   "execution_count": 4,
   "id": "db46b1e6-bee0-4d89-a6cd-76f9316bff78",
   "metadata": {},
   "outputs": [],
   "source": [
    "y_lin = P(x)"
   ]
  },
  {
   "cell_type": "code",
   "execution_count": 5,
   "id": "1cdd29dc-cb70-44df-90ff-151770102c03",
   "metadata": {},
   "outputs": [
    {
     "name": "stdout",
     "output_type": "stream",
     "text": [
      "torch.Size([3, 17, 256])\n"
     ]
    }
   ],
   "source": [
    "print(y_lin.shape)"
   ]
  },
  {
   "cell_type": "code",
   "execution_count": 6,
   "id": "7cd8a63b-8590-428d-bf15-36099fb6010e",
   "metadata": {},
   "outputs": [
    {
     "name": "stdout",
     "output_type": "stream",
     "text": [
      "torch.Size([3, 17, 8, 32])\n"
     ]
    }
   ],
   "source": [
    "Pw = Pw.reshape((s, 32, 64))\n",
    "Xw = x.unsqueeze(2).unsqueeze(2)\n",
    "y_multi = Xw@Pw.unsqueeze(0).unsqueeze(0).swapaxes(-2, -1)\n",
    "y_multi = y_multi.squeeze(-2)\n",
    "print(y_multi.shape)\n",
    "B, N, r, e = y_multi.shape\n",
    "y_multi = y_multi.reshape((B, N, r*e))"
   ]
  },
  {
   "cell_type": "code",
   "execution_count": 7,
   "id": "1fe1d603-0936-4805-9eda-caa712175465",
   "metadata": {},
   "outputs": [
    {
     "data": {
      "text/plain": [
       "torch.Size([3, 17, 256])"
      ]
     },
     "execution_count": 7,
     "metadata": {},
     "output_type": "execute_result"
    }
   ],
   "source": [
    "y_multi.shape"
   ]
  },
  {
   "cell_type": "code",
   "execution_count": 8,
   "id": "ae8d074d-46f0-4690-8eb1-652b952eefda",
   "metadata": {},
   "outputs": [
    {
     "data": {
      "text/plain": [
       "True"
      ]
     },
     "execution_count": 8,
     "metadata": {},
     "output_type": "execute_result"
    }
   ],
   "source": [
    "th.allclose(y_lin, y_multi)"
   ]
  },
  {
   "cell_type": "code",
   "execution_count": 9,
   "id": "8d8d76ce-8549-4a9c-9d45-22acb8bd380a",
   "metadata": {},
   "outputs": [
    {
     "data": {
      "text/plain": [
       "tensor(0., grad_fn=<MeanBackward0>)"
      ]
     },
     "execution_count": 9,
     "metadata": {},
     "output_type": "execute_result"
    }
   ],
   "source": [
    "th.mean((y_lin - y_multi)**2)"
   ]
  },
  {
   "cell_type": "markdown",
   "id": "19b22b0b-ce30-4952-80f3-784d70046287",
   "metadata": {},
   "source": [
    "## Tensorly decomposition"
   ]
  },
  {
   "cell_type": "code",
   "execution_count": 10,
   "id": "3b7216c1-376a-442d-afde-3add833c7e47",
   "metadata": {},
   "outputs": [],
   "source": [
    "decomp = tl.decomposition.CP(rank=32*s, normalize_factors=False, verbose=False, init=\"random\", tol=1e-24, random_state=42)\n",
    "_, (P1, P2, P3) = decomp.fit_transform(Pw)"
   ]
  },
  {
   "cell_type": "code",
   "execution_count": 11,
   "id": "9118e4b4-99c6-48bc-9dc7-0c64502eb00d",
   "metadata": {},
   "outputs": [
    {
     "data": {
      "text/plain": [
       "True"
      ]
     },
     "execution_count": 11,
     "metadata": {},
     "output_type": "execute_result"
    }
   ],
   "source": [
    "recons_pw = tl.cp_to_tensor((None, (P1, P2, P3)))\n",
    "th.allclose(recons_pw, Pw)"
   ]
  },
  {
   "cell_type": "code",
   "execution_count": 12,
   "id": "94f9ac59-3476-4ea0-9d22-c70e9b3d9155",
   "metadata": {},
   "outputs": [
    {
     "name": "stdout",
     "output_type": "stream",
     "text": [
      "torch.Size([8, 256]) torch.Size([32, 256]) torch.Size([64, 256])\n"
     ]
    }
   ],
   "source": [
    "print(P1.shape, P2.shape, P3.shape)"
   ]
  },
  {
   "cell_type": "code",
   "execution_count": 13,
   "id": "5197052d-90d0-4bc9-bb38-fe8ea534cbfa",
   "metadata": {},
   "outputs": [
    {
     "name": "stdout",
     "output_type": "stream",
     "text": [
      "torch.Size([256, 3, 17, 8, 32])\n"
     ]
    }
   ],
   "source": [
    "x_ = x.unsqueeze(0).unsqueeze(-2)  # (1, bs, patches, heads, headdim)\n",
    "preprocess = (\n",
    "    lambda x: x.unsqueeze(0).unsqueeze(0).unsqueeze(0).permute([-1, 0, 1, 2, 3])\n",
    ")\n",
    "P_3 = preprocess(P3)\n",
    "P_2 = preprocess(P2)\n",
    "P_1 = preprocess(P1)\n",
    "inter_1 = x_ @ P_3.swapaxes(-2, -1)\n",
    "inter_2 = inter_1 @ P_2\n",
    "op = P_1.swapaxes(-2, -1) @ inter_2\n",
    "print(op.shape)\n",
    "R, B, N, e, k = op.shape\n",
    "op = op.reshape((R, B, N, -1))\n",
    "op = th.sum(op, dim=0)"
   ]
  },
  {
   "cell_type": "code",
   "execution_count": 14,
   "id": "cd22b1ca-f4c0-43d6-9840-d02f7e022769",
   "metadata": {},
   "outputs": [
    {
     "data": {
      "text/plain": [
       "True"
      ]
     },
     "execution_count": 14,
     "metadata": {},
     "output_type": "execute_result"
    }
   ],
   "source": [
    "th.allclose(y_multi, op)"
   ]
  },
  {
   "cell_type": "code",
   "execution_count": 15,
   "id": "7a351f21-9131-4157-9cfe-8a521d4d8932",
   "metadata": {},
   "outputs": [
    {
     "data": {
      "text/plain": [
       "tensor(1.3726e-23)"
      ]
     },
     "execution_count": 15,
     "metadata": {},
     "output_type": "execute_result"
    }
   ],
   "source": [
    "th.mean((y_multi-op)**2)"
   ]
  },
  {
   "cell_type": "markdown",
   "id": "2c3412d4-bef3-4132-ba8f-87ef21cd72d5",
   "metadata": {},
   "source": [
    "# Down forward pass"
   ]
  },
  {
   "cell_type": "code",
   "execution_count": 16,
   "id": "b897a3db-3a02-4ca5-be90-f0f5949c80c4",
   "metadata": {},
   "outputs": [
    {
     "name": "stdout",
     "output_type": "stream",
     "text": [
      "torch.Size([64, 256]) torch.Size([3, 17, 256])\n"
     ]
    }
   ],
   "source": [
    "P = th.nn.Linear(32*s, 64, bias=False)\n",
    "Pw = P.weight.data\n",
    "x = th.randn((3, 17, 32*s))\n",
    "print(Pw.shape, x.shape)"
   ]
  },
  {
   "cell_type": "code",
   "execution_count": 17,
   "id": "b06f95c0-8a71-41af-ace3-1c44ed351b7a",
   "metadata": {},
   "outputs": [
    {
     "name": "stdout",
     "output_type": "stream",
     "text": [
      "torch.Size([3, 17, 64])\n"
     ]
    }
   ],
   "source": [
    "y_lin = P(x)\n",
    "print(y_lin.shape)"
   ]
  },
  {
   "cell_type": "code",
   "execution_count": 18,
   "id": "1fc1ed44-db09-4cf7-bc2c-ebd748377e78",
   "metadata": {},
   "outputs": [
    {
     "data": {
      "text/plain": [
       "torch.Size([64, 32, 8])"
      ]
     },
     "execution_count": 18,
     "metadata": {},
     "output_type": "execute_result"
    }
   ],
   "source": [
    "Pw = Pw.reshape((64, 32, s))\n",
    "Pw.shape"
   ]
  },
  {
   "cell_type": "code",
   "execution_count": 19,
   "id": "e98daba9-cf25-4d1a-992c-3d9e8467fdb8",
   "metadata": {},
   "outputs": [],
   "source": [
    "decomp = tl.decomposition.CP(rank=32*s, normalize_factors=False, verbose=False, init=\"random\", tol=1e-24, random_state=42)\n",
    "_, (P1, P2, P3) = decomp.fit_transform(Pw)"
   ]
  },
  {
   "cell_type": "code",
   "execution_count": 20,
   "id": "8554ba14-7669-4b99-8e63-95f4d608bd48",
   "metadata": {},
   "outputs": [
    {
     "data": {
      "text/plain": [
       "True"
      ]
     },
     "execution_count": 20,
     "metadata": {},
     "output_type": "execute_result"
    }
   ],
   "source": [
    "recons_pw = tl.cp_to_tensor((None, (P1, P2, P3)))\n",
    "th.allclose(recons_pw, Pw)"
   ]
  },
  {
   "cell_type": "code",
   "execution_count": 21,
   "id": "93bd6237-ed2a-46af-942d-427a5a6246ba",
   "metadata": {},
   "outputs": [
    {
     "name": "stdout",
     "output_type": "stream",
     "text": [
      "torch.Size([64, 256]) torch.Size([32, 256]) torch.Size([8, 256])\n"
     ]
    }
   ],
   "source": [
    "print(P1.shape, P2.shape, P3.shape)"
   ]
  },
  {
   "cell_type": "code",
   "execution_count": 22,
   "id": "b7d929f4-ab37-4afe-84dd-a77e30d36845",
   "metadata": {},
   "outputs": [],
   "source": [
    "B, N, C = x.shape\n",
    "x_ = x.reshape((B, N, C//s, s))\n",
    "x_ = x_.unsqueeze(0) # (1, bs, patches, heads, headdim)\n",
    "preprocess = (\n",
    "    lambda x: x.unsqueeze(0).unsqueeze(0).unsqueeze(0).permute([-1, 0, 1, 2, 3])\n",
    ")\n",
    "P_3 = preprocess(P3)\n",
    "P_2 = preprocess(P2)\n",
    "P_1 = preprocess(P1)\n",
    "inter_1 = x_ @ P_3.swapaxes(-2, -1)\n",
    "inter_2 = P_2 @ inter_1\n",
    "inter_2 = inter_2.squeeze(-1)\n",
    "output = inter_2 @ P_1.squeeze(1)\n",
    "output = th.sum(output, dim=0)"
   ]
  },
  {
   "cell_type": "code",
   "execution_count": 23,
   "id": "43b28e72-f346-45e6-ae51-83f575d1c5f4",
   "metadata": {},
   "outputs": [
    {
     "data": {
      "text/plain": [
       "True"
      ]
     },
     "execution_count": 23,
     "metadata": {},
     "output_type": "execute_result"
    }
   ],
   "source": [
    "th.allclose(output, y_lin)"
   ]
  },
  {
   "cell_type": "code",
   "execution_count": 24,
   "id": "ed4b5458-f450-4bb3-a922-0333c45b4420",
   "metadata": {},
   "outputs": [
    {
     "data": {
      "text/plain": [
       "tensor(1.1375e-18, grad_fn=<MeanBackward0>)"
      ]
     },
     "execution_count": 24,
     "metadata": {},
     "output_type": "execute_result"
    }
   ],
   "source": [
    "th.mean((y_lin-output)**2)"
   ]
  }
 ],
 "metadata": {
  "kernelspec": {
   "display_name": "Python 3 (ipykernel)",
   "language": "python",
   "name": "python3"
  },
  "language_info": {
   "codemirror_mode": {
    "name": "ipython",
    "version": 3
   },
   "file_extension": ".py",
   "mimetype": "text/x-python",
   "name": "python",
   "nbconvert_exporter": "python",
   "pygments_lexer": "ipython3",
   "version": "3.12.3"
  }
 },
 "nbformat": 4,
 "nbformat_minor": 5
}
